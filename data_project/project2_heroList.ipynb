{
 "cells": [
  {
   "cell_type": "code",
   "execution_count": 1,
   "metadata": {},
   "outputs": [],
   "source": [
    "# Path of the file to read\n",
    "import pandas as pd\n",
    "import matplotlib.pyplot as plt\n",
    "import seaborn as sb"
   ]
  },
  {
   "cell_type": "code",
   "execution_count": 4,
   "metadata": {},
   "outputs": [],
   "source": [
    "ow2_data_1_path = \"../data_project/data/ow2_quickplay_heroes_stats.csv\"\n",
    "ow2_data_1 = pd.read_csv(ow2_data_1_path, index_col= \"Role\")"
   ]
  },
  {
   "cell_type": "code",
   "execution_count": 6,
   "metadata": {},
   "outputs": [
    {
     "data": {
      "text/plain": [
       "Index(['Support', 'Damage', 'Tank'], dtype='object', name='Role')"
      ]
     },
     "execution_count": 6,
     "metadata": {},
     "output_type": "execute_result"
    }
   ],
   "source": [
    "#역할군 별 인덱스 지정한 거 나타내기\n",
    "#역할군이 뭐가 있는지 확인하기, 인덱스 값을 Role로 지정했기에 가능함.\n",
    "ow2_data_1.index.drop_duplicates() # 'Support', 'Damage', 'Tank'"
   ]
  },
  {
   "cell_type": "code",
   "execution_count": 11,
   "metadata": {},
   "outputs": [
    {
     "data": {
      "text/plain": [
       "array(['Ana', 'Mercy', 'Kiriko', 'Moira', 'Zenyatta', 'Lucio', 'Baptiste',\n",
       "       'Brigitte'], dtype=object)"
      ]
     },
     "execution_count": 11,
     "metadata": {},
     "output_type": "execute_result"
    }
   ],
   "source": [
    "#역할군이 서포터로 분류되어 있는 애들만 추출해오기\n",
    "ow2_data_1_sup = ow2_data_1.loc[ow2_data_1.index == \"Support\"]\n",
    "\n",
    "#서포터로 분류되어 있는 영웅의 이름만 가져오기.\n",
    "ow2_data_1_sup[\"Hero\"].unique()"
   ]
  },
  {
   "cell_type": "code",
   "execution_count": 10,
   "metadata": {},
   "outputs": [
    {
     "data": {
      "text/plain": [
       "array(['Ana', 'Mercy', 'Kiriko', 'Moira', 'Zenyatta', 'Lucio', 'Baptiste',\n",
       "       'Brigitte'], dtype=object)"
      ]
     },
     "execution_count": 10,
     "metadata": {},
     "output_type": "execute_result"
    }
   ],
   "source": [
    "#역할군이 서포터로 분류되어 있는 애들만 추출해오기\n",
    "ow2_data_1_sup = ow2_data_1.loc[ow2_data_1.index == \"Support\"]\n",
    "\n",
    "#서포터로 분류되어 있는 영웅의 이름만 가져오기.\n",
    "ow2_data_1_sup[\"Hero\"].unique()"
   ]
  },
  {
   "cell_type": "code",
   "execution_count": 14,
   "metadata": {},
   "outputs": [
    {
     "data": {
      "text/plain": [
       "array(['Cassidy', 'Genji', 'Hanzo', 'Widowmaker', 'Soldier: 76',\n",
       "       'Junkrat', 'Ashe', 'Tracer', 'Reaper', 'Pharah', 'Mei', 'Bastion',\n",
       "       'Sombra', 'Sojourn', 'Symmetra', 'Torbjorn', 'Echo'], dtype=object)"
      ]
     },
     "execution_count": 14,
     "metadata": {},
     "output_type": "execute_result"
    }
   ],
   "source": [
    "#역할군이 딜러로 분류되어 있는 애들만 추출해오기\n",
    "ow2_data_1_Dag = ow2_data_1.loc[ow2_data_1.index == \"Damage\"]\n",
    "\n",
    "#딜러로 분류되어 있는 영웅의 이름만 가져오기.\n",
    "ow2_data_1_Dag[\"Hero\"].unique()"
   ]
  },
  {
   "cell_type": "code",
   "execution_count": 18,
   "metadata": {},
   "outputs": [
    {
     "data": {
      "text/plain": [
       "array(['Reinhardt', 'D.Va', 'Roadhog', 'Zarya', 'Orisa', 'Sigma',\n",
       "       'Doomfist', 'Winston', 'Wrecking Ball', 'Ramattra', 'Junker Queen'],\n",
       "      dtype=object)"
      ]
     },
     "execution_count": 18,
     "metadata": {},
     "output_type": "execute_result"
    }
   ],
   "source": [
    "#역할군이 탱커로 분류되어 있는 애들만 추출해오기\n",
    "ow2_data_1_Tank = ow2_data_1.loc[ow2_data_1.index == \"Tank\"]\n",
    "\n",
    "#탱커로 분류되어 있는 영웅의 이름만 가져오기.\n",
    "ow2_data_1_Tank[\"Hero\"].unique()"
   ]
  },
  {
   "cell_type": "code",
   "execution_count": 22,
   "metadata": {},
   "outputs": [
    {
     "data": {
      "text/plain": [
       "Index(['All', 'Bronze', 'Silver', 'Gold', 'Platinum', 'Diamond', 'Master',\n",
       "       'Grandmaster'],\n",
       "      dtype='object', name='Skill Tier')"
      ]
     },
     "execution_count": 22,
     "metadata": {},
     "output_type": "execute_result"
    }
   ],
   "source": [
    "ow2_data_1_path = \"../data_project/data/ow2_quickplay_heroes_stats.csv\"\n",
    "ow2_data_Tier = pd.read_csv(ow2_data_1_path, index_col= \"Skill Tier\")\n",
    "\n",
    "\n",
    "#티어 리스트 추출\n",
    "ow2_data_Tier.index.unique()"
   ]
  },
  {
   "cell_type": "code",
   "execution_count": 24,
   "metadata": {},
   "outputs": [],
   "source": [
    "# 해당 필요에 의해 사용하기 위해 역할군 3종 / 티어로 목록을 리스트화. 나중에 사용할 때 최상단 복붙\n",
    "Tier = [\"All\", \"Bronze\", \"Silver\", \"Gold\", \"Platinum\", \"Diamond\", \"Master\", \"Grandmaster\"]\n",
    "\n",
    "Dag_heroes = ['Cassidy', 'Genji', 'Hanzo', 'Widowmaker', 'Soldier: 76',\n",
    "              'Junkrat', 'Ashe', 'Tracer', 'Reaper', 'Pharah', 'Mei', 'Bastion',\n",
    "              'Sombra', 'Sojourn', 'Symmetra', 'Torbjorn', 'Echo']\n",
    "Tan_heroes = ['Reinhardt', 'D.Va', 'Roadhog', 'Zarya', 'Orisa', 'Sigma',\n",
    "              'Doomfist', 'Winston', 'Wrecking Ball', 'Ramattra', 'Junker Queen']\n",
    "Sup_heroes = ['Ana', 'Mercy', 'Kiriko', 'Moira', 'Zenyatta', 'Lucio', 'Baptiste', 'Brigitte']"
   ]
  },
  {
   "cell_type": "code",
   "execution_count": 28,
   "metadata": {},
   "outputs": [
    {
     "data": {
      "text/plain": [
       "['Ana',\n",
       " 'Mercy',\n",
       " 'Kiriko',\n",
       " 'Moira',\n",
       " 'Zenyatta',\n",
       " 'Lucio',\n",
       " 'Baptiste',\n",
       " 'Brigitte']"
      ]
     },
     "execution_count": 28,
     "metadata": {},
     "output_type": "execute_result"
    }
   ],
   "source": [
    "# 리스트 확인용\n",
    "Tier\n",
    "Dag_heroes\n",
    "Tan_heroes\n",
    "Sup_heroes"
   ]
  }
 ],
 "metadata": {
  "kernelspec": {
   "display_name": "base",
   "language": "python",
   "name": "python3"
  },
  "language_info": {
   "codemirror_mode": {
    "name": "ipython",
    "version": 3
   },
   "file_extension": ".py",
   "mimetype": "text/x-python",
   "name": "python",
   "nbconvert_exporter": "python",
   "pygments_lexer": "ipython3",
   "version": "3.11.5"
  }
 },
 "nbformat": 4,
 "nbformat_minor": 2
}
