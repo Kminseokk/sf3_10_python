{
 "cells": [
  {
   "cell_type": "code",
   "execution_count": 1,
   "metadata": {},
   "outputs": [],
   "source": [
    "import requests"
   ]
  },
  {
   "cell_type": "code",
   "execution_count": 2,
   "metadata": {},
   "outputs": [],
   "source": [
    "from bs4 import BeautifulSoup"
   ]
  },
  {
   "cell_type": "code",
   "execution_count": 14,
   "metadata": {},
   "outputs": [
    {
     "name": "stdout",
     "output_type": "stream",
     "text": [
      "아이따뜻해 프리미엄 핫팩 국산 포켓용 파스형 /// 13,600원 /// https://adcr.naver.com/adcr?x=A4TsSOJazPH/5j0xgfkDY////w==kyosZcySBjMbd2uIVI6X5Ng4a5msKiN0vPBpGHiPFSXYOk3PeKGho6Ky9ZFS9ahgAEZr7g5r9ruDk19SREXaLzG2X8Qd/mNPC+ZICAD0TlC40cRWODf0EE5kAK0InefaXO1SwXKxqg40uDCGfdqnGs2Yw23YGAaXvV95Xds7NrPs9q0cniWWaq3XH8HtKB6tZ5rzaRJVIb6nbtJarz6bY/HUtDEqfF9Lee8VyBX6EAb6jG+6EeqFAuAXZKhHwlDjmroJaywAUAL8dJKVmqEJOMGSTNjpsEd/a3wxpylq2CwIVi8109YciW+Eag/4QCI71oyKEoLD7YHvRLboF9i19MnFlLfMzq5ba8cD0nq9at2LOxPxfFbWUBHsFp7GwI7JfmFsXl0OS2uWn5HUX4mGNccEjd8433U5cZrIxn0S1F30qYEnocb1A6hSKXq/0QRcIa8zErlyVhx6yhr/KOMcaH9X87eeYZwK2XSJlGc/kqCfh4PFYQXsvmQt5wU6PoVCJoPl9WWYD8A7jDx1yBoZIJVlduCzlw14VevU9ChIkkphJaoXXvsRFwQ08/Lw+DZ+2HI65FKI49b/vJGu7TVE4qIeiiGPDY91V/Nzp55sf+gn4mZgjNahlCqr2Mq9t2qfF8tN6Zbo3xCBY7iQpveTaNBaNLXKJbfqeCfB8mFOkMZp2VrAA6YGGjG6ME7xJq5S4+A/xKUuQaafJMWm8KoVv5c0DimfBM7rMycYLzlDOxCrt1vYzsm+juRr7FFD8HR/hAvLa5ESSwoxndOMGVK+impK3AjpMIns3roWXHCIJrCVY4ylx9Pumcua14hESqp2yQzPeP6ZzQhi5TZIvXONKw1lGXkWSqmUi3wk7KGY1FxLBGULxH6xcTnXUyaAGHdCZy56sUEl5BU9CLsZIi0bstI1ta0GDoGOTrdN1NUzzBg8=\n",
      "올해 생산된 제품만! 핫타임 핫팩 모음전 /// 7,900원 /// https://adcr.naver.com/adcr?x=qSrsY2heY2YZVwCNIn99i////w==kmtJNdE85cfjYMpItLWE5lBaYGloF7mxEMwTh0F/+v+TRewLooxkNaL85PgUpL1K7/Js55hAzQgtaxghDgOMqSmtZU4bhIzxZ6XvjGu8bmDl7Dzp+nJv1g/4CEDb9aa+hnKFuPLeNpsFfIh6Phb6p6ZiXlv4c9dVIJgwsXdwXzzNkkCQxQNL68TYJkX0u3/pDy95eIGsEH51MUf2JWDPh8apigoe/xAj1VCR2vY0rna8iwGyksYW3Tb7D/Icwdt1gaQICCiFKIMtcthEawNDEuhLtuuCM2F4EDcExZzxdOeYgCYRapXBlEngmZ3VsjVvO+xMuJrUpKFg4N4vJofJ5Je9j7P8E87xwEklEDsmcmV+ZbWS+GN1tqmmpMUjj53fQi5rzxkLJWkHDORZtm5LgO0kr2SgbubyiSYYl0UmPztPBFLBSpyjg2qLeS22kqwS4S2Py6dK53nBngK98dQeyL6/jBYmqzqSpQqiuFiIB2Ua1XUArNH1iL5tDU3Y1MjQWjVfGUAkLJqoP6GKEYr1CUh4SUU6JaQx7niyTKW1NhmhbGOUuA3dH58Bu1rTMEC38GVHrusk+gbVjIeVW+1XqgMHpwdgfbVf/ghbKBFGN/mpvijc5aqVdd0QDyPCq1HtCf/rQCV206hYgACSC/f3HF+ypd7JMcP8S7sus1QMf1AOS72tDwwBDsMwm8/huBOCAbXqWF+jyxW9dSqwE2tKwv8BglCETHrDSYD4+VBGMMogwwLwO4halt4lJaKvlY7URvW/HNTxPu+W1ts9Q1kg797UabiTn0w58m1Ykbkav9hLODWZaJPLtu0TtSWiSaZfleUXlVCByG2yp2QGyTwXo43PaKC9/u3zNKpvV/78ATmXIniz53czJXBZGYgz7r2jo\n",
      "[부원산업] 명장 불난로 대용량 핫팩 곰병장 (약20시간 160g) 1개입 /// 500원 /// https://adcr.naver.com/adcr?x=HcavYIsmpM7wC7Zx6qcUhv///w==kLL4C8DzQtFSusCIGd3OeDW//B4t0w0DGlcNNABi7lSBG88mOzTu9JN9jCOdCiQDQ2lwm9VaGZSRbAZG+0azb5W+VkBeNBdZBL3hs9YAVN5ltcwQvBHt45h+Nzhu2ChCwltxohkuAyy7rpKUlr+oHNAG9JQRi1d9S4o82/9PBrOOpgDCafREu0L3YGH8q6zS+p32pv2SY8bWVqX11PHahzxNR625RSZX5f2WsLCGeGtzIxvF5SpfL3TsxUH31GA66MCKE6nHTwZUZjtkX6cupSm5bqznZF6kqc8hoarFOwG956NGDlLaFki56rKc/h1w2vjAbPqflyyA8ERy97C8PByI386v3+no9iIsBZyFQ4v9/KvFRl+gCrzIeB8V7Z9CN/CzYTg0xScb39UlWwOOJVAc9zxiH39RWb8IBUQKAjR5CDcEf/ovrioBbZKD6YDjZ64M9+8fuixIX3ukhkcdB228I4ewnnNRypYTT8YripYL5/35C4/I+vxhxePEEFt5C/nOqP31oyHaKrAHFMC7sXZEZLNcRGkp3CRA4ihLn/+AXKCuo2om13pQc+kl04zdLo3loZ7aM3IunRxKGfJKzxMYm7UYJP/vgCv0meEpmjz4TStGnajfiIf7m18NBUOELIudjOjQodw7ZsID1y/FO1zefhQeK/r2CWvjpqTwfcgikTyThxSlfZs9+d2fAFGVzYOPrPpKfq53/zRIKIkqVde7lcMa2hF7cj/jhFIk6dixa+XU4YMhFTrf8u3S0iV1njARvh/WoZMoq+fW1dN3JmENCRSNsoLZ6yy0GgV9lcwUIkzJ7RHWrIUxnneMhRjLJ9uw12gOeUsROKLndqqBL4OZwMJQD/2GyxiWi+gtN5nIxwtop0k9p0snnvsi1hdtT\n",
      "150g 10매입 김국산 핫칠공 핫팩 방석 대용량 군용 캠핑 등산 겨울 휴대용핫팩 /// 7,500원 /// https://adcr.naver.com/adcr?x=bUk8GnhURuhZi+k1UI17tv///w==kOXXygkPXp/L6FYREqzYOC3uq1A5Dyf2Vk7WrTHRMIBWK3npfEAw2o+EJchmzzMA94bnFcSoMF3VC6UmFgZBToaM5ub2NekBQZWz47iEoD3XhoQd/aCIVgVRCqZ3y8gYMF8QeG3LzRynGLzjWCSoQArBs8STYC71pPsy0jVZn+WbBbAFFz/zeEUzXKySv5wr6YZGRVjZVVdYoZGR6DpFuKIosniGklZ5B92jZGVgYRWS3cSGHirYok86B8mi14PmOyGlTxWU6Mt7iSoE/T+dMbR9BUDj6Rb0/0ycpex9Ja3NdP5F8RxET39TZWHIPa3aw3BrsUGrWKibWlCxUJJ31HaGS7LW2/gVMSLWwDFmTjnQWkh5cK+XQ0F9w4ohZPYjd8oDz5LAI6jBHqbCcwGG3eTHX9DiqyLZuDQk7DQRYVrIHXqYPiA1lhA1fq91ZU6bg1/8NVAaF4mq1O32JFF4QGSXHMe/64M44XXILl/HuYzIhUkJm+lAg0UEfWwMK7XZBSiaNqHAc8+ap++E6gs2NxV/VReXxFyaAzGzaFFTzJNHNPdJ6bDL6rqz26hYliCBmTsIL0rBDs7A9Rujx4OqfNQYOpn+fbkbwgL9GmZKmytMefciQlX5UnJlYlIjTkoF7YIJyDlQlLvCw8KJXz5CzDAHxfD8asr7HtI+qXoMcN5Ld6Pm+MFVnMqNPw68faDBvm6rhcebh8IAH9nv7fs2uYKekGIQKZtOvweiLOkzdqMfTLufW019PFAktQ0WcXd408sPbtJYF0eafaqot/Ba4nZd+xqE9lIPVT5IXUUqzNaDYNLFhnd+dN3iwnDseOFjeYZG7WtlWVYApIjpgVSWHGMM8XXwGge9N7nF3lpyA854fcq2+lM6w6cTzZS+J99rG\n"
     ]
    }
   ],
   "source": [
    "from openpyxl import Workbook\n",
    "\n",
    "rink = \"https://search.shopping.naver.com/search/all?query=%ED%95%AB%ED%8C%A9&cat_id=&frm=NVSHATC\"\n",
    "\n",
    "response = requests.get(rink) \n",
    "html = response.text   \n",
    "soup = BeautifulSoup(html, 'html.parser')\n",
    "\n",
    "info = soup.select('.adProduct_inner__W_nuz')\n",
    "\n",
    "# q2 = Workbook()\n",
    "# q2_ws = q2.active\n",
    "# q2_ws.title = 'naver shopping'\n",
    "# data = [\n",
    "#     ['상품명', '가격', '주소']\n",
    "# ]\n",
    "\n",
    "for ms in info :\n",
    "    title = ms.select_one('.adProduct_title__amInq').text\n",
    "    price = ms.select_one('.price_num__S2p_v').text\n",
    "    url = ms.select_one('.adProduct_link__NYTV9')['href']\n",
    "\n",
    "    print(title , \"///\", price, \"///\" , url)\n",
    "\n",
    "    #data.append( [title, price, url])\n",
    "\n",
    "\n",
    "# for row in data:\n",
    "#     q2_ws.append(row)\n",
    "\n",
    "# q2.save('navershopping example2.xlsx')\n",
    "\n"
   ]
  },
  {
   "cell_type": "code",
   "execution_count": null,
   "metadata": {},
   "outputs": [],
   "source": []
  }
 ],
 "metadata": {
  "kernelspec": {
   "display_name": "base",
   "language": "python",
   "name": "python3"
  },
  "language_info": {
   "codemirror_mode": {
    "name": "ipython",
    "version": 3
   },
   "file_extension": ".py",
   "mimetype": "text/x-python",
   "name": "python",
   "nbconvert_exporter": "python",
   "pygments_lexer": "ipython3",
   "version": "3.11.5"
  }
 },
 "nbformat": 4,
 "nbformat_minor": 2
}
