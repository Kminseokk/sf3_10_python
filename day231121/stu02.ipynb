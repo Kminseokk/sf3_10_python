{
 "cells": [
  {
   "cell_type": "code",
   "execution_count": 39,
   "metadata": {},
   "outputs": [
    {
     "name": "stdout",
     "output_type": "stream",
     "text": [
      "진행 2\n"
     ]
    },
    {
     "ename": "NoSuchElementException",
     "evalue": "Message: no such element: Unable to locate element: {\"method\":\"css selector\",\"selector\":\"#gnb-gnb > div > div._combineHeader_inner_2Uy4J > button > span\"}\n  (Session info: chrome=119.0.6045.160); For documentation on this error, please visit: https://www.selenium.dev/documentation/webdriver/troubleshooting/errors#no-such-element-exception\nStacktrace:\n\tGetHandleVerifier [0x00C772A3+45731]\n\t(No symbol) [0x00C02D51]\n\t(No symbol) [0x00AF880D]\n\t(No symbol) [0x00B2B940]\n\t(No symbol) [0x00B2BE0B]\n\t(No symbol) [0x00B5D1F2]\n\t(No symbol) [0x00B48024]\n\t(No symbol) [0x00B5B7A2]\n\t(No symbol) [0x00B47DD6]\n\t(No symbol) [0x00B231F6]\n\t(No symbol) [0x00B2439D]\n\tGetHandleVerifier [0x00F80716+3229462]\n\tGetHandleVerifier [0x00FC84C8+3523784]\n\tGetHandleVerifier [0x00FC214C+3498316]\n\tGetHandleVerifier [0x00D01680+611968]\n\t(No symbol) [0x00C0CCCC]\n\t(No symbol) [0x00C08DF8]\n\t(No symbol) [0x00C08F1D]\n\t(No symbol) [0x00BFB2C7]\n\tBaseThreadInitThunk [0x76967BA9+25]\n\tRtlInitializeExceptionChain [0x773DBD3B+107]\n\tRtlClearBits [0x773DBCBF+191]\n",
     "output_type": "error",
     "traceback": [
      "\u001b[1;31m---------------------------------------------------------------------------\u001b[0m",
      "\u001b[1;31mNoSuchElementException\u001b[0m                    Traceback (most recent call last)",
      "\u001b[1;32mc:\\Users\\Lenovo\\Desktop\\github\\sf3_10_py\\sf3_10_python\\day231121\\stu02.ipynb Cell 1\u001b[0m line \u001b[0;36m2\n\u001b[0;32m     <a href='vscode-notebook-cell:/c%3A/Users/Lenovo/Desktop/github/sf3_10_py/sf3_10_python/day231121/stu02.ipynb#W0sZmlsZQ%3D%3D?line=23'>24</a>\u001b[0m \u001b[39mprint\u001b[39m(\u001b[39m\"\u001b[39m\u001b[39m진행 2\u001b[39m\u001b[39m\"\u001b[39m)\n\u001b[0;32m     <a href='vscode-notebook-cell:/c%3A/Users/Lenovo/Desktop/github/sf3_10_py/sf3_10_python/day231121/stu02.ipynb#W0sZmlsZQ%3D%3D?line=24'>25</a>\u001b[0m sleep(\u001b[39m10\u001b[39m)\n\u001b[1;32m---> <a href='vscode-notebook-cell:/c%3A/Users/Lenovo/Desktop/github/sf3_10_py/sf3_10_python/day231121/stu02.ipynb#W0sZmlsZQ%3D%3D?line=26'>27</a>\u001b[0m search \u001b[39m=\u001b[39m driver\u001b[39m.\u001b[39;49mfind_element(By\u001b[39m.\u001b[39;49mCSS_SELECTOR, \u001b[39m'\u001b[39;49m\u001b[39m#gnb-gnb > div > div._combineHeader_inner_2Uy4J > button > span\u001b[39;49m\u001b[39m'\u001b[39;49m)\n\u001b[0;32m     <a href='vscode-notebook-cell:/c%3A/Users/Lenovo/Desktop/github/sf3_10_py/sf3_10_python/day231121/stu02.ipynb#W0sZmlsZQ%3D%3D?line=27'>28</a>\u001b[0m search\u001b[39m.\u001b[39mclick()\n\u001b[0;32m     <a href='vscode-notebook-cell:/c%3A/Users/Lenovo/Desktop/github/sf3_10_py/sf3_10_python/day231121/stu02.ipynb#W0sZmlsZQ%3D%3D?line=28'>29</a>\u001b[0m sleep(\u001b[39m5\u001b[39m)\n",
      "File \u001b[1;32mc:\\Users\\Lenovo\\anaconda3\\Lib\\site-packages\\selenium\\webdriver\\remote\\webdriver.py:741\u001b[0m, in \u001b[0;36mWebDriver.find_element\u001b[1;34m(self, by, value)\u001b[0m\n\u001b[0;32m    738\u001b[0m     by \u001b[39m=\u001b[39m By\u001b[39m.\u001b[39mCSS_SELECTOR\n\u001b[0;32m    739\u001b[0m     value \u001b[39m=\u001b[39m \u001b[39mf\u001b[39m\u001b[39m'\u001b[39m\u001b[39m[name=\u001b[39m\u001b[39m\"\u001b[39m\u001b[39m{\u001b[39;00mvalue\u001b[39m}\u001b[39;00m\u001b[39m\"\u001b[39m\u001b[39m]\u001b[39m\u001b[39m'\u001b[39m\n\u001b[1;32m--> 741\u001b[0m \u001b[39mreturn\u001b[39;00m \u001b[39mself\u001b[39;49m\u001b[39m.\u001b[39;49mexecute(Command\u001b[39m.\u001b[39;49mFIND_ELEMENT, {\u001b[39m\"\u001b[39;49m\u001b[39musing\u001b[39;49m\u001b[39m\"\u001b[39;49m: by, \u001b[39m\"\u001b[39;49m\u001b[39mvalue\u001b[39;49m\u001b[39m\"\u001b[39;49m: value})[\u001b[39m\"\u001b[39m\u001b[39mvalue\u001b[39m\u001b[39m\"\u001b[39m]\n",
      "File \u001b[1;32mc:\\Users\\Lenovo\\anaconda3\\Lib\\site-packages\\selenium\\webdriver\\remote\\webdriver.py:347\u001b[0m, in \u001b[0;36mWebDriver.execute\u001b[1;34m(self, driver_command, params)\u001b[0m\n\u001b[0;32m    345\u001b[0m response \u001b[39m=\u001b[39m \u001b[39mself\u001b[39m\u001b[39m.\u001b[39mcommand_executor\u001b[39m.\u001b[39mexecute(driver_command, params)\n\u001b[0;32m    346\u001b[0m \u001b[39mif\u001b[39;00m response:\n\u001b[1;32m--> 347\u001b[0m     \u001b[39mself\u001b[39;49m\u001b[39m.\u001b[39;49merror_handler\u001b[39m.\u001b[39;49mcheck_response(response)\n\u001b[0;32m    348\u001b[0m     response[\u001b[39m\"\u001b[39m\u001b[39mvalue\u001b[39m\u001b[39m\"\u001b[39m] \u001b[39m=\u001b[39m \u001b[39mself\u001b[39m\u001b[39m.\u001b[39m_unwrap_value(response\u001b[39m.\u001b[39mget(\u001b[39m\"\u001b[39m\u001b[39mvalue\u001b[39m\u001b[39m\"\u001b[39m, \u001b[39mNone\u001b[39;00m))\n\u001b[0;32m    349\u001b[0m     \u001b[39mreturn\u001b[39;00m response\n",
      "File \u001b[1;32mc:\\Users\\Lenovo\\anaconda3\\Lib\\site-packages\\selenium\\webdriver\\remote\\errorhandler.py:229\u001b[0m, in \u001b[0;36mErrorHandler.check_response\u001b[1;34m(self, response)\u001b[0m\n\u001b[0;32m    227\u001b[0m         alert_text \u001b[39m=\u001b[39m value[\u001b[39m\"\u001b[39m\u001b[39malert\u001b[39m\u001b[39m\"\u001b[39m]\u001b[39m.\u001b[39mget(\u001b[39m\"\u001b[39m\u001b[39mtext\u001b[39m\u001b[39m\"\u001b[39m)\n\u001b[0;32m    228\u001b[0m     \u001b[39mraise\u001b[39;00m exception_class(message, screen, stacktrace, alert_text)  \u001b[39m# type: ignore[call-arg]  # mypy is not smart enough here\u001b[39;00m\n\u001b[1;32m--> 229\u001b[0m \u001b[39mraise\u001b[39;00m exception_class(message, screen, stacktrace)\n",
      "\u001b[1;31mNoSuchElementException\u001b[0m: Message: no such element: Unable to locate element: {\"method\":\"css selector\",\"selector\":\"#gnb-gnb > div > div._combineHeader_inner_2Uy4J > button > span\"}\n  (Session info: chrome=119.0.6045.160); For documentation on this error, please visit: https://www.selenium.dev/documentation/webdriver/troubleshooting/errors#no-such-element-exception\nStacktrace:\n\tGetHandleVerifier [0x00C772A3+45731]\n\t(No symbol) [0x00C02D51]\n\t(No symbol) [0x00AF880D]\n\t(No symbol) [0x00B2B940]\n\t(No symbol) [0x00B2BE0B]\n\t(No symbol) [0x00B5D1F2]\n\t(No symbol) [0x00B48024]\n\t(No symbol) [0x00B5B7A2]\n\t(No symbol) [0x00B47DD6]\n\t(No symbol) [0x00B231F6]\n\t(No symbol) [0x00B2439D]\n\tGetHandleVerifier [0x00F80716+3229462]\n\tGetHandleVerifier [0x00FC84C8+3523784]\n\tGetHandleVerifier [0x00FC214C+3498316]\n\tGetHandleVerifier [0x00D01680+611968]\n\t(No symbol) [0x00C0CCCC]\n\t(No symbol) [0x00C08DF8]\n\t(No symbol) [0x00C08F1D]\n\t(No symbol) [0x00BFB2C7]\n\tBaseThreadInitThunk [0x76967BA9+25]\n\tRtlInitializeExceptionChain [0x773DBD3B+107]\n\tRtlClearBits [0x773DBCBF+191]\n"
     ]
    }
   ],
   "source": [
    "from selenium import webdriver\n",
    "from selenium.webdriver.common.by import By\n",
    "from selenium.webdriver.common.keys import Keys\n",
    "from selenium.webdriver.chrome.options import Options\n",
    "from selenium.webdriver.chrome.service import Service\n",
    "from webdriver_manager.chrome import ChromeDriverManager\n",
    "from time import sleep\n",
    "\n",
    "chrome_options = Options()\n",
    "chrome_options.add_experimental_option(\"detach\", True)\n",
    "\n",
    "service = Service(executable_path=ChromeDriverManager().install())\n",
    "driver = webdriver.Chrome(service=service, options=chrome_options)\n",
    "\n",
    "driver.get(\"https://www.naver.com\")\n",
    "\n",
    "main_window_handle = driver.current_window_handle\n",
    "new_tab_handle = None\n",
    "\n",
    "sleep(5)\n",
    "\n",
    "# 네이버 새탭이 열리므로 새탭과 이전 탭 등 탭 관리를 해야함.\n",
    "\n",
    "login = driver.find_element(By.CLASS_NAME, \"service_icon.type_shopping\")\n",
    "login.click()\n",
    "\n",
    "print(\"진행 2\")\n",
    "sleep(10)\n",
    "\n",
    "search = driver.find_element(By.CSS_SELECTOR, '#gnb-gnb > div > div._combineHeader_inner_2Uy4J > button > span')\n",
    "search.click()\n",
    "sleep(5)\n",
    "\n",
    "input_elm = driver.find_element(By.CSS_SELECTOR, '#input_text')\n",
    "input_elm.send_keys('자두')\n",
    "input_elm.send_keys(Keys.RETURN)\n",
    "sleep(5)\n",
    "\n",
    "\n",
    "\n"
   ]
  },
  {
   "cell_type": "code",
   "execution_count": 38,
   "metadata": {},
   "outputs": [
    {
     "name": "stdout",
     "output_type": "stream",
     "text": [
      "제목 꿀과즙 자두 대석 후무사 추희 피 체리자두 포모사 왕자두 켈시 하우스 임산부 제철과일\n",
      "가격 19,800원\n",
      "링크 https://adcr.naver.com/adcr?x=Hm5lMQnLQBuQVvlqxDKCzf///w==kb+fi61QWtH52jvGHQXaCvebyxC12NdkljeAoFinLVp5gOdnTeHP9sizUc47yBJZwq7USoAcYgmvZ0ENhl0jyCoSQY38WcTCh7eawKhe+eGft1g2BbL334xzvMjzeoa0Pq1UlQ9WwCvhEf4dIJ458wAglr69jeDCm9dQYZE1aYos9MPjRi9K6CGA3aFMslJxAzZC7MX8zYCrwNLgQU+aHQLfEdGGL06am7wycEogdlBI42x2UbxZyFheVYn0Z28YRdPKUZRVdWJ41wQ2cjIcWHkWTHgKbB2WOxzO08NAQJ91CFZVux2ShYD/GlC8dpxgC9JHBsyKL6Yo+sBs5rV4QLSvLSkkeCGOpIf581pFtyeMQqohlw4fCx2kjZgj+S8RpTuRYaNbY77+zHY1/5JrKN1GD5yeR/kT4woalSgddOCJKRtSrVqw5DnVxvbW8Nwx1RfLIduJBpdwF1dKENkuRgII2zsOnficQstexeS20EwLzRPxtHvIKPpgKPJep8VWpke++44Blj/LRhIO1MAUmXsKfT8HA4hcPyXmi4HU1W22+H+02asZrVYqgFfK24nqx+8LHASLmAu4YQh6K74dlmdizAaHFneNSVzvaZsei5Gmb699B1DJAh8Fv+LefyfKtSCNHmIirOIrR69VC4cLGoPuKqZ673vpYYZjQcpD4UnAItUJa/zMDM2tW51gPsXSJQ6jyrdXZUaz9cKLHYTT7iAzpfyxWaKxy9ve6ZF5memgUv78OX8KK0hQhNZvfjOsAEkkFXldv4P2XdcfgyJEUK94L5wLr/VkNxHUj3pUdO1X80HbeUXmU8Z0Rv9GFZl0UYOjikULXoXMbpylemzBY9g==\n",
      "제목 고당도 프리미엄 노지 자두 당도보장\n",
      "가격 70,800원\n",
      "링크 https://adcr.naver.com/adcr?x=Hm5lMQnLQBuQVvlqxDKCzf///w==kb+fi61QWtH52jvGHQXaCvebyxC12NdkljeAoFinLVp5gOdnTeHP9sizUc47yBJZwq7USoAcYgmvZ0ENhl0jyCoSQY38WcTCh7eawKhe+eGft1g2BbL334xzvMjzeoa0Pq1UlQ9WwCvhEf4dIJ458wAglr69jeDCm9dQYZE1aYos9MPjRi9K6CGA3aFMslJxAzZC7MX8zYCrwNLgQU+aHQLfEdGGL06am7wycEogdlBI42x2UbxZyFheVYn0Z28YRdPKUZRVdWJ41wQ2cjIcWHkWTHgKbB2WOxzO08NAQJ91CFZVux2ShYD/GlC8dpxgC9JHBsyKL6Yo+sBs5rV4QLSvLSkkeCGOpIf581pFtyeMQqohlw4fCx2kjZgj+S8RpTuRYaNbY77+zHY1/5JrKN1GD5yeR/kT4woalSgddOCJKRtSrVqw5DnVxvbW8Nwx1RfLIduJBpdwF1dKENkuRgII2zsOnficQstexeS20EwLzRPxtHvIKPpgKPJep8VWpke++44Blj/LRhIO1MAUmXsKfT8HA4hcPyXmi4HU1W22+H+02asZrVYqgFfK24nqx+8LHASLmAu4YQh6K74dlmdizAaHFneNSVzvaZsei5Gmb699B1DJAh8Fv+LefyfKtSCNHmIirOIrR69VC4cLGoPuKqZ673vpYYZjQcpD4UnAItUJa/zMDM2tW51gPsXSJQ6jyrdXZUaz9cKLHYTT7iAzpfyxWaKxy9ve6ZF5memgUv78OX8KK0hQhNZvfjOsAEkkFXldv4P2XdcfgyJEUK94L5wLr/VkNxHUj3pUdO1X80HbeUXmU8Z0Rv9GFZl0UYOjikULXoXMbpylemzBY9g==\n",
      "제목 김천 자두 추희 가을자두 2kg 4kg\n",
      "가격 38,610원\n",
      "링크 https://adcr.naver.com/adcr?x=Hm5lMQnLQBuQVvlqxDKCzf///w==kb+fi61QWtH52jvGHQXaCvebyxC12NdkljeAoFinLVp5gOdnTeHP9sizUc47yBJZwq7USoAcYgmvZ0ENhl0jyCoSQY38WcTCh7eawKhe+eGft1g2BbL334xzvMjzeoa0Pq1UlQ9WwCvhEf4dIJ458wAglr69jeDCm9dQYZE1aYos9MPjRi9K6CGA3aFMslJxAzZC7MX8zYCrwNLgQU+aHQLfEdGGL06am7wycEogdlBI42x2UbxZyFheVYn0Z28YRdPKUZRVdWJ41wQ2cjIcWHkWTHgKbB2WOxzO08NAQJ91CFZVux2ShYD/GlC8dpxgC9JHBsyKL6Yo+sBs5rV4QLSvLSkkeCGOpIf581pFtyeMQqohlw4fCx2kjZgj+S8RpTuRYaNbY77+zHY1/5JrKN1GD5yeR/kT4woalSgddOCJKRtSrVqw5DnVxvbW8Nwx1RfLIduJBpdwF1dKENkuRgII2zsOnficQstexeS20EwLzRPxtHvIKPpgKPJep8VWpke++44Blj/LRhIO1MAUmXsKfT8HA4hcPyXmi4HU1W22+H+02asZrVYqgFfK24nqx+8LHASLmAu4YQh6K74dlmdizAaHFneNSVzvaZsei5Gmb699B1DJAh8Fv+LefyfKtSCNHmIirOIrR69VC4cLGoPuKqZ673vpYYZjQcpD4UnAItUJa/zMDM2tW51gPsXSJQ6jyrdXZUaz9cKLHYTT7iAzpfyxWaKxy9ve6ZF5memgUv78OX8KK0hQhNZvfjOsAEkkFXldv4P2XdcfgyJEUK94L5wLr/VkNxHUj3pUdO1X80HbeUXmU8Z0Rv9GFZl0UYOjikULXoXMbpylemzBY9g==\n",
      "제목 새콤달콤 대석 자두 김천 의성 후무사 추희자두 임산부과일 과일선물\n",
      "가격 20,000원\n",
      "링크 https://adcr.naver.com/adcr?x=Hm5lMQnLQBuQVvlqxDKCzf///w==kb+fi61QWtH52jvGHQXaCvebyxC12NdkljeAoFinLVp5gOdnTeHP9sizUc47yBJZwq7USoAcYgmvZ0ENhl0jyCoSQY38WcTCh7eawKhe+eGft1g2BbL334xzvMjzeoa0Pq1UlQ9WwCvhEf4dIJ458wAglr69jeDCm9dQYZE1aYos9MPjRi9K6CGA3aFMslJxAzZC7MX8zYCrwNLgQU+aHQLfEdGGL06am7wycEogdlBI42x2UbxZyFheVYn0Z28YRdPKUZRVdWJ41wQ2cjIcWHkWTHgKbB2WOxzO08NAQJ91CFZVux2ShYD/GlC8dpxgC9JHBsyKL6Yo+sBs5rV4QLSvLSkkeCGOpIf581pFtyeMQqohlw4fCx2kjZgj+S8RpTuRYaNbY77+zHY1/5JrKN1GD5yeR/kT4woalSgddOCJKRtSrVqw5DnVxvbW8Nwx1RfLIduJBpdwF1dKENkuRgII2zsOnficQstexeS20EwLzRPxtHvIKPpgKPJep8VWpke++44Blj/LRhIO1MAUmXsKfT8HA4hcPyXmi4HU1W22+H+02asZrVYqgFfK24nqx+8LHASLmAu4YQh6K74dlmdizAaHFneNSVzvaZsei5Gmb699B1DJAh8Fv+LefyfKtSCNHmIirOIrR69VC4cLGoPuKqZ673vpYYZjQcpD4UnAItUJa/zMDM2tW51gPsXSJQ6jyrdXZUaz9cKLHYTT7iAzpfyxWaKxy9ve6ZF5memgUv78OX8KK0hQhNZvfjOsAEkkFXldv4P2XdcfgyJEUK94L5wLr/VkNxHUj3pUdO1X80HbeUXmU8Z0Rv9GFZl0UYOjikULXoXMbpylemzBY9g==\n",
      "제목 햇 자두 후무사 대석자두 추희 도담 왕자두\n",
      "가격 2,900,000원\n",
      "링크 https://adcr.naver.com/adcr?x=Hm5lMQnLQBuQVvlqxDKCzf///w==kb+fi61QWtH52jvGHQXaCvebyxC12NdkljeAoFinLVp5gOdnTeHP9sizUc47yBJZwq7USoAcYgmvZ0ENhl0jyCoSQY38WcTCh7eawKhe+eGft1g2BbL334xzvMjzeoa0Pq1UlQ9WwCvhEf4dIJ458wAglr69jeDCm9dQYZE1aYos9MPjRi9K6CGA3aFMslJxAzZC7MX8zYCrwNLgQU+aHQLfEdGGL06am7wycEogdlBI42x2UbxZyFheVYn0Z28YRdPKUZRVdWJ41wQ2cjIcWHkWTHgKbB2WOxzO08NAQJ91CFZVux2ShYD/GlC8dpxgC9JHBsyKL6Yo+sBs5rV4QLSvLSkkeCGOpIf581pFtyeMQqohlw4fCx2kjZgj+S8RpTuRYaNbY77+zHY1/5JrKN1GD5yeR/kT4woalSgddOCJKRtSrVqw5DnVxvbW8Nwx1RfLIduJBpdwF1dKENkuRgII2zsOnficQstexeS20EwLzRPxtHvIKPpgKPJep8VWpke++44Blj/LRhIO1MAUmXsKfT8HA4hcPyXmi4HU1W22+H+02asZrVYqgFfK24nqx+8LHASLmAu4YQh6K74dlmdizAaHFneNSVzvaZsei5Gmb699B1DJAh8Fv+LefyfKtSCNHmIirOIrR69VC4cLGoPuKqZ673vpYYZjQcpD4UnAItUJa/zMDM2tW51gPsXSJQ6jyrdXZUaz9cKLHYTT7iAzpfyxWaKxy9ve6ZF5memgUv78OX8KK0hQhNZvfjOsAEkkFXldv4P2XdcfgyJEUK94L5wLr/VkNxHUj3pUdO1X80HbeUXmU8Z0Rv9GFZl0UYOjikULXoXMbpylemzBY9g==\n",
      "제목 딜라잇가든 냉동 자두 반태 1kg\n",
      "가격 6,900원\n",
      "링크 https://adcr.naver.com/adcr?x=Hm5lMQnLQBuQVvlqxDKCzf///w==kb+fi61QWtH52jvGHQXaCvebyxC12NdkljeAoFinLVp5gOdnTeHP9sizUc47yBJZwq7USoAcYgmvZ0ENhl0jyCoSQY38WcTCh7eawKhe+eGft1g2BbL334xzvMjzeoa0Pq1UlQ9WwCvhEf4dIJ458wAglr69jeDCm9dQYZE1aYos9MPjRi9K6CGA3aFMslJxAzZC7MX8zYCrwNLgQU+aHQLfEdGGL06am7wycEogdlBI42x2UbxZyFheVYn0Z28YRdPKUZRVdWJ41wQ2cjIcWHkWTHgKbB2WOxzO08NAQJ91CFZVux2ShYD/GlC8dpxgC9JHBsyKL6Yo+sBs5rV4QLSvLSkkeCGOpIf581pFtyeMQqohlw4fCx2kjZgj+S8RpTuRYaNbY77+zHY1/5JrKN1GD5yeR/kT4woalSgddOCJKRtSrVqw5DnVxvbW8Nwx1RfLIduJBpdwF1dKENkuRgII2zsOnficQstexeS20EwLzRPxtHvIKPpgKPJep8VWpke++44Blj/LRhIO1MAUmXsKfT8HA4hcPyXmi4HU1W22+H+02asZrVYqgFfK24nqx+8LHASLmAu4YQh6K74dlmdizAaHFneNSVzvaZsei5Gmb699B1DJAh8Fv+LefyfKtSCNHmIirOIrR69VC4cLGoPuKqZ673vpYYZjQcpD4UnAItUJa/zMDM2tW51gPsXSJQ6jyrdXZUaz9cKLHYTT7iAzpfyxWaKxy9ve6ZF5memgUv78OX8KK0hQhNZvfjOsAEkkFXldv4P2XdcfgyJEUK94L5wLr/VkNxHUj3pUdO1X80HbeUXmU8Z0Rv9GFZl0UYOjikULXoXMbpylemzBY9g==\n",
      "제목 의성자두 후무사 대석 추희 로얄대석 도담 왕자두 복숭아 자두 2kg 은주네농원\n",
      "가격 26,900원\n",
      "링크 https://adcr.naver.com/adcr?x=Hm5lMQnLQBuQVvlqxDKCzf///w==kb+fi61QWtH52jvGHQXaCvebyxC12NdkljeAoFinLVp5gOdnTeHP9sizUc47yBJZwq7USoAcYgmvZ0ENhl0jyCoSQY38WcTCh7eawKhe+eGft1g2BbL334xzvMjzeoa0Pq1UlQ9WwCvhEf4dIJ458wAglr69jeDCm9dQYZE1aYos9MPjRi9K6CGA3aFMslJxAzZC7MX8zYCrwNLgQU+aHQLfEdGGL06am7wycEogdlBI42x2UbxZyFheVYn0Z28YRdPKUZRVdWJ41wQ2cjIcWHkWTHgKbB2WOxzO08NAQJ91CFZVux2ShYD/GlC8dpxgC9JHBsyKL6Yo+sBs5rV4QLSvLSkkeCGOpIf581pFtyeMQqohlw4fCx2kjZgj+S8RpTuRYaNbY77+zHY1/5JrKN1GD5yeR/kT4woalSgddOCJKRtSrVqw5DnVxvbW8Nwx1RfLIduJBpdwF1dKENkuRgII2zsOnficQstexeS20EwLzRPxtHvIKPpgKPJep8VWpke++44Blj/LRhIO1MAUmXsKfT8HA4hcPyXmi4HU1W22+H+02asZrVYqgFfK24nqx+8LHASLmAu4YQh6K74dlmdizAaHFneNSVzvaZsei5Gmb699B1DJAh8Fv+LefyfKtSCNHmIirOIrR69VC4cLGoPuKqZ673vpYYZjQcpD4UnAItUJa/zMDM2tW51gPsXSJQ6jyrdXZUaz9cKLHYTT7iAzpfyxWaKxy9ve6ZF5memgUv78OX8KK0hQhNZvfjOsAEkkFXldv4P2XdcfgyJEUK94L5wLr/VkNxHUj3pUdO1X80HbeUXmU8Z0Rv9GFZl0UYOjikULXoXMbpylemzBY9g==\n",
      "제목 None\n"
     ]
    },
    {
     "ename": "NoSuchWindowException",
     "evalue": "Message: no such window: target window already closed\nfrom unknown error: web view not found\n  (Session info: chrome=119.0.6045.160)\nStacktrace:\n\tGetHandleVerifier [0x00C772A3+45731]\n\t(No symbol) [0x00C02D51]\n\t(No symbol) [0x00AF880D]\n\t(No symbol) [0x00ADF75E]\n\t(No symbol) [0x00B4C11B]\n\t(No symbol) [0x00B5B2D3]\n\t(No symbol) [0x00B47DD6]\n\t(No symbol) [0x00B231F6]\n\t(No symbol) [0x00B2439D]\n\tGetHandleVerifier [0x00F80716+3229462]\n\tGetHandleVerifier [0x00FC84C8+3523784]\n\tGetHandleVerifier [0x00FC214C+3498316]\n\tGetHandleVerifier [0x00D01680+611968]\n\t(No symbol) [0x00C0CCCC]\n\t(No symbol) [0x00C08DF8]\n\t(No symbol) [0x00C08F1D]\n\t(No symbol) [0x00BFB2C7]\n\tBaseThreadInitThunk [0x76967BA9+25]\n\tRtlInitializeExceptionChain [0x773DBD3B+107]\n\tRtlClearBits [0x773DBCBF+191]\n",
     "output_type": "error",
     "traceback": [
      "\u001b[1;31m---------------------------------------------------------------------------\u001b[0m",
      "\u001b[1;31mNoSuchWindowException\u001b[0m                     Traceback (most recent call last)",
      "\u001b[1;32mc:\\Users\\Lenovo\\Desktop\\github\\sf3_10_py\\sf3_10_python\\day231121\\stu02.ipynb Cell 2\u001b[0m line \u001b[0;36m4\n\u001b[0;32m     <a href='vscode-notebook-cell:/c%3A/Users/Lenovo/Desktop/github/sf3_10_py/sf3_10_python/day231121/stu02.ipynb#W1sZmlsZQ%3D%3D?line=41'>42</a>\u001b[0m title \u001b[39m=\u001b[39m product\u001b[39m.\u001b[39mfind_element(By\u001b[39m.\u001b[39mCSS_SELECTOR, \u001b[39m'\u001b[39m\u001b[39m.product_info_tit__c5_pb\u001b[39m\u001b[39m'\u001b[39m)\u001b[39m.\u001b[39mtext\n\u001b[0;32m     <a href='vscode-notebook-cell:/c%3A/Users/Lenovo/Desktop/github/sf3_10_py/sf3_10_python/day231121/stu02.ipynb#W1sZmlsZQ%3D%3D?line=42'>43</a>\u001b[0m \u001b[39mprint\u001b[39m(\u001b[39mf\u001b[39m\u001b[39m\"\u001b[39m\u001b[39m제목 \u001b[39m\u001b[39m{\u001b[39;00mtitle\u001b[39m}\u001b[39;00m\u001b[39m\"\u001b[39m)\n\u001b[1;32m---> <a href='vscode-notebook-cell:/c%3A/Users/Lenovo/Desktop/github/sf3_10_py/sf3_10_python/day231121/stu02.ipynb#W1sZmlsZQ%3D%3D?line=43'>44</a>\u001b[0m price \u001b[39m=\u001b[39m product\u001b[39m.\u001b[39;49mfind_element(By\u001b[39m.\u001b[39;49mCSS_SELECTOR, \u001b[39m'\u001b[39;49m\u001b[39m.product_num__iQsWh\u001b[39;49m\u001b[39m'\u001b[39;49m)\u001b[39m.\u001b[39mtext\n\u001b[0;32m     <a href='vscode-notebook-cell:/c%3A/Users/Lenovo/Desktop/github/sf3_10_py/sf3_10_python/day231121/stu02.ipynb#W1sZmlsZQ%3D%3D?line=44'>45</a>\u001b[0m \u001b[39mprint\u001b[39m(\u001b[39mf\u001b[39m\u001b[39m\"\u001b[39m\u001b[39m가격 \u001b[39m\u001b[39m{\u001b[39;00mprice\u001b[39m}\u001b[39;00m\u001b[39m\"\u001b[39m)\n\u001b[0;32m     <a href='vscode-notebook-cell:/c%3A/Users/Lenovo/Desktop/github/sf3_10_py/sf3_10_python/day231121/stu02.ipynb#W1sZmlsZQ%3D%3D?line=45'>46</a>\u001b[0m \u001b[39m# link = product.find_element(By.TAG_NAME, 'a').get_attribute('href')\u001b[39;00m\n",
      "File \u001b[1;32mc:\\Users\\Lenovo\\anaconda3\\Lib\\site-packages\\selenium\\webdriver\\remote\\webelement.py:416\u001b[0m, in \u001b[0;36mWebElement.find_element\u001b[1;34m(self, by, value)\u001b[0m\n\u001b[0;32m    413\u001b[0m     by \u001b[39m=\u001b[39m By\u001b[39m.\u001b[39mCSS_SELECTOR\n\u001b[0;32m    414\u001b[0m     value \u001b[39m=\u001b[39m \u001b[39mf\u001b[39m\u001b[39m'\u001b[39m\u001b[39m[name=\u001b[39m\u001b[39m\"\u001b[39m\u001b[39m{\u001b[39;00mvalue\u001b[39m}\u001b[39;00m\u001b[39m\"\u001b[39m\u001b[39m]\u001b[39m\u001b[39m'\u001b[39m\n\u001b[1;32m--> 416\u001b[0m \u001b[39mreturn\u001b[39;00m \u001b[39mself\u001b[39;49m\u001b[39m.\u001b[39;49m_execute(Command\u001b[39m.\u001b[39;49mFIND_CHILD_ELEMENT, {\u001b[39m\"\u001b[39;49m\u001b[39musing\u001b[39;49m\u001b[39m\"\u001b[39;49m: by, \u001b[39m\"\u001b[39;49m\u001b[39mvalue\u001b[39;49m\u001b[39m\"\u001b[39;49m: value})[\u001b[39m\"\u001b[39m\u001b[39mvalue\u001b[39m\u001b[39m\"\u001b[39m]\n",
      "File \u001b[1;32mc:\\Users\\Lenovo\\anaconda3\\Lib\\site-packages\\selenium\\webdriver\\remote\\webelement.py:394\u001b[0m, in \u001b[0;36mWebElement._execute\u001b[1;34m(self, command, params)\u001b[0m\n\u001b[0;32m    392\u001b[0m     params \u001b[39m=\u001b[39m {}\n\u001b[0;32m    393\u001b[0m params[\u001b[39m\"\u001b[39m\u001b[39mid\u001b[39m\u001b[39m\"\u001b[39m] \u001b[39m=\u001b[39m \u001b[39mself\u001b[39m\u001b[39m.\u001b[39m_id\n\u001b[1;32m--> 394\u001b[0m \u001b[39mreturn\u001b[39;00m \u001b[39mself\u001b[39;49m\u001b[39m.\u001b[39;49m_parent\u001b[39m.\u001b[39;49mexecute(command, params)\n",
      "File \u001b[1;32mc:\\Users\\Lenovo\\anaconda3\\Lib\\site-packages\\selenium\\webdriver\\remote\\webdriver.py:347\u001b[0m, in \u001b[0;36mWebDriver.execute\u001b[1;34m(self, driver_command, params)\u001b[0m\n\u001b[0;32m    345\u001b[0m response \u001b[39m=\u001b[39m \u001b[39mself\u001b[39m\u001b[39m.\u001b[39mcommand_executor\u001b[39m.\u001b[39mexecute(driver_command, params)\n\u001b[0;32m    346\u001b[0m \u001b[39mif\u001b[39;00m response:\n\u001b[1;32m--> 347\u001b[0m     \u001b[39mself\u001b[39;49m\u001b[39m.\u001b[39;49merror_handler\u001b[39m.\u001b[39;49mcheck_response(response)\n\u001b[0;32m    348\u001b[0m     response[\u001b[39m\"\u001b[39m\u001b[39mvalue\u001b[39m\u001b[39m\"\u001b[39m] \u001b[39m=\u001b[39m \u001b[39mself\u001b[39m\u001b[39m.\u001b[39m_unwrap_value(response\u001b[39m.\u001b[39mget(\u001b[39m\"\u001b[39m\u001b[39mvalue\u001b[39m\u001b[39m\"\u001b[39m, \u001b[39mNone\u001b[39;00m))\n\u001b[0;32m    349\u001b[0m     \u001b[39mreturn\u001b[39;00m response\n",
      "File \u001b[1;32mc:\\Users\\Lenovo\\anaconda3\\Lib\\site-packages\\selenium\\webdriver\\remote\\errorhandler.py:229\u001b[0m, in \u001b[0;36mErrorHandler.check_response\u001b[1;34m(self, response)\u001b[0m\n\u001b[0;32m    227\u001b[0m         alert_text \u001b[39m=\u001b[39m value[\u001b[39m\"\u001b[39m\u001b[39malert\u001b[39m\u001b[39m\"\u001b[39m]\u001b[39m.\u001b[39mget(\u001b[39m\"\u001b[39m\u001b[39mtext\u001b[39m\u001b[39m\"\u001b[39m)\n\u001b[0;32m    228\u001b[0m     \u001b[39mraise\u001b[39;00m exception_class(message, screen, stacktrace, alert_text)  \u001b[39m# type: ignore[call-arg]  # mypy is not smart enough here\u001b[39;00m\n\u001b[1;32m--> 229\u001b[0m \u001b[39mraise\u001b[39;00m exception_class(message, screen, stacktrace)\n",
      "\u001b[1;31mNoSuchWindowException\u001b[0m: Message: no such window: target window already closed\nfrom unknown error: web view not found\n  (Session info: chrome=119.0.6045.160)\nStacktrace:\n\tGetHandleVerifier [0x00C772A3+45731]\n\t(No symbol) [0x00C02D51]\n\t(No symbol) [0x00AF880D]\n\t(No symbol) [0x00ADF75E]\n\t(No symbol) [0x00B4C11B]\n\t(No symbol) [0x00B5B2D3]\n\t(No symbol) [0x00B47DD6]\n\t(No symbol) [0x00B231F6]\n\t(No symbol) [0x00B2439D]\n\tGetHandleVerifier [0x00F80716+3229462]\n\tGetHandleVerifier [0x00FC84C8+3523784]\n\tGetHandleVerifier [0x00FC214C+3498316]\n\tGetHandleVerifier [0x00D01680+611968]\n\t(No symbol) [0x00C0CCCC]\n\t(No symbol) [0x00C08DF8]\n\t(No symbol) [0x00C08F1D]\n\t(No symbol) [0x00BFB2C7]\n\tBaseThreadInitThunk [0x76967BA9+25]\n\tRtlInitializeExceptionChain [0x773DBD3B+107]\n\tRtlClearBits [0x773DBCBF+191]\n"
     ]
    }
   ],
   "source": [
    "from selenium import webdriver\n",
    "from selenium.webdriver.common.by import By\n",
    "from selenium.webdriver.common.keys import Keys\n",
    "from selenium.webdriver.chrome.options import Options\n",
    "from selenium.webdriver.chrome.service import Service\n",
    "from webdriver_manager.chrome import ChromeDriverManager\n",
    "from time import sleep\n",
    "\n",
    "chrome_options = Options()\n",
    "chrome_options.add_experimental_option(\"detach\", True)\n",
    "\n",
    "service = Service(executable_path=ChromeDriverManager().install())\n",
    "\n",
    "driver = webdriver.Chrome(service=service, options=chrome_options)\n",
    "driver.get(\"https://shopping.naver.com/home\")\n",
    "\n",
    "sleep(3)\n",
    "search = driver.find_element(By.CSS_SELECTOR, '#gnb-gnb > div > div._combineHeader_inner_2Uy4J > button > span')\n",
    "search.click()\n",
    "sleep(3)\n",
    "input_elm = driver.find_element(By.CSS_SELECTOR, '#input_text')\n",
    "input_elm.send_keys('자두')\n",
    "input_elm.send_keys(Keys.RETURN)\n",
    "sleep(3)\n",
    "\n",
    "current_height = driver.execute_script(\"return window.scrollY\")\n",
    "\n",
    "while True:\n",
    "    driver.find_element(By.CSS_SELECTOR, 'body').send_keys(Keys.END)\n",
    "    sleep(1)\n",
    "    \n",
    "    scrolled_height = driver.execute_script(\"return window.scrollY\")\n",
    "    \n",
    "    if (current_height == scrolled_height):\n",
    "        break\n",
    "    \n",
    "    current_height = scrolled_height\n",
    "\n",
    "products = driver.find_elements(By.CSS_SELECTOR, '.product_list_item__b84TO')\n",
    "\n",
    "for product in products:\n",
    "    title = product.find_element(By.CSS_SELECTOR, '.product_info_tit__c5_pb').text\n",
    "    print(f\"제목 {title}\")\n",
    "    price = product.find_element(By.CSS_SELECTOR, '.product_num__iQsWh').text\n",
    "    print(f\"가격 {price}\")\n",
    "    # link = product.find_element(By.TAG_NAME, 'a').get_attribute('href')\n",
    "    link = product.find_element(By.XPATH, '//a[contains(text(), \"상품 바로가기\")]').get_attribute('href')\n",
    "    print(f\"링크 {link}\")"
   ]
  },
  {
   "cell_type": "code",
   "execution_count": null,
   "metadata": {},
   "outputs": [],
   "source": []
  }
 ],
 "metadata": {
  "kernelspec": {
   "display_name": "base",
   "language": "python",
   "name": "python3"
  },
  "language_info": {
   "codemirror_mode": {
    "name": "ipython",
    "version": 3
   },
   "file_extension": ".py",
   "mimetype": "text/x-python",
   "name": "python",
   "nbconvert_exporter": "python",
   "pygments_lexer": "ipython3",
   "version": "3.11.5"
  }
 },
 "nbformat": 4,
 "nbformat_minor": 2
}
