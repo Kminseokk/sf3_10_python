{
 "cells": [
  {
   "cell_type": "code",
   "execution_count": 2,
   "metadata": {},
   "outputs": [
    {
     "name": "stdout",
     "output_type": "stream",
     "text": [
      "Epoch    0/2000 prediction: tensor([109.7109, 131.9216, 129.9760, 141.3969, 100.7357]) Cost: 2358.464355\n",
      "Epoch  100/2000 prediction: tensor([152.7473, 183.7259, 180.9793, 196.9411, 140.2662]) Cost: 1.406540\n",
      "Epoch  200/2000 prediction: tensor([152.7073, 183.7535, 180.9673, 196.9308, 140.3038]) Cost: 1.346696\n",
      "Epoch  300/2000 prediction: tensor([152.6685, 183.7803, 180.9556, 196.9207, 140.3403]) Cost: 1.289998\n",
      "Epoch  400/2000 prediction: tensor([152.6306, 183.8064, 180.9442, 196.9109, 140.3759]) Cost: 1.236237\n",
      "Epoch  500/2000 prediction: tensor([152.5938, 183.8318, 180.9331, 196.9013, 140.4106]) Cost: 1.185300\n",
      "Epoch  600/2000 prediction: tensor([152.5580, 183.8565, 180.9223, 196.8919, 140.4444]) Cost: 1.137020\n",
      "Epoch  700/2000 prediction: tensor([152.5232, 183.8805, 180.9119, 196.8827, 140.4773]) Cost: 1.091274\n",
      "Epoch  800/2000 prediction: tensor([152.4893, 183.9039, 180.9017, 196.8738, 140.5093]) Cost: 1.047908\n",
      "Epoch  900/2000 prediction: tensor([152.4563, 183.9267, 180.8918, 196.8650, 140.5405]) Cost: 1.006796\n",
      "Epoch 1000/2000 prediction: tensor([152.4243, 183.9488, 180.8822, 196.8565, 140.5709]) Cost: 0.967849\n",
      "Epoch 1100/2000 prediction: tensor([152.3931, 183.9703, 180.8728, 196.8482, 140.6005]) Cost: 0.930921\n",
      "Epoch 1200/2000 prediction: tensor([152.3628, 183.9913, 180.8637, 196.8400, 140.6293]) Cost: 0.895892\n",
      "Epoch 1300/2000 prediction: tensor([152.3333, 184.0117, 180.8549, 196.8320, 140.6574]) Cost: 0.862716\n",
      "Epoch 1400/2000 prediction: tensor([152.3046, 184.0315, 180.8463, 196.8243, 140.6847]) Cost: 0.831264\n",
      "Epoch 1500/2000 prediction: tensor([152.2767, 184.0508, 180.8380, 196.8167, 140.7114]) Cost: 0.801428\n",
      "Epoch 1600/2000 prediction: tensor([152.2495, 184.0695, 180.8298, 196.8092, 140.7373]) Cost: 0.773150\n",
      "Epoch 1700/2000 prediction: tensor([152.2231, 184.0878, 180.8219, 196.8020, 140.7626]) Cost: 0.746340\n",
      "Epoch 1800/2000 prediction: tensor([152.1974, 184.1056, 180.8143, 196.7949, 140.7872]) Cost: 0.720917\n",
      "Epoch 1900/2000 prediction: tensor([152.1725, 184.1228, 180.8068, 196.7879, 140.8112]) Cost: 0.696812\n",
      "Epoch 2000/2000 prediction: tensor([152.1482, 184.1397, 180.7996, 196.7811, 140.8346]) Cost: 0.673956\n",
      "예측 값: 181.74635314941406\n"
     ]
    }
   ],
   "source": [
    "import torch\n",
    "import torch.nn as nn\n",
    "import torch.optim as optim\n",
    "import numpy as np\n",
    "\n",
    "# 데이터셋\n",
    "x_data = torch.tensor([[73, 80, 75],\n",
    "                       [93, 88, 93],\n",
    "                       [89, 91, 90],\n",
    "                       [96, 98, 100],\n",
    "                       [73, 66, 70]], dtype=torch.float32)\n",
    "\n",
    "y_data = torch.tensor([[152],\n",
    "                       [185],\n",
    "                       [180],\n",
    "                       [196],\n",
    "                       [142]], dtype=torch.float32)\n",
    "\n",
    "\n",
    "# 다중 선형 회귀 클래스\n",
    "class MultiLinearRegression(nn.Module):\n",
    "    def __init__(self):\n",
    "        super(MultiLinearRegression, self).__init__()\n",
    "        self.linear = nn.Linear(3, 1)\n",
    "\n",
    "    def forward(self, x):\n",
    "        return self.linear(x)\n",
    "\n",
    "\n",
    "model = MultiLinearRegression()\n",
    "\n",
    "# 손실 함수와 옵티마이저\n",
    "loss_fn = nn.MSELoss()  # 평균 제곱 오차\n",
    "optimizer = optim.SGD(model.parameters(), lr=1e-5)\n",
    "\n",
    "# 학습\n",
    "epochs = 2000\n",
    "for epoch in range(epochs + 1):\n",
    "    prediction = model(x_data)\n",
    "\n",
    "    loss = loss_fn(prediction, y_data)\n",
    "\n",
    "    optimizer.zero_grad()\n",
    "    loss.backward()\n",
    "    optimizer.step()\n",
    "\n",
    "    if epoch % 100 ==0:\n",
    "      print('Epoch {:4d}/{} prediction: {} Cost: {:.6f}'.format(\n",
    "          epoch, epochs, prediction.squeeze().detach(), loss.item()\n",
    "      ))\n",
    "\n",
    "# 예측\n",
    "model.eval()\n",
    "x_test = torch.tensor([[90, 88, 93]], dtype=torch.float32)\n",
    "y_test = model(x_test)\n",
    "print(f\"예측 값: {y_test.squeeze().detach()}\")\n"
   ]
  },
  {
   "cell_type": "code",
   "execution_count": null,
   "metadata": {},
   "outputs": [],
   "source": []
  }
 ],
 "metadata": {
  "kernelspec": {
   "display_name": "base",
   "language": "python",
   "name": "python3"
  },
  "language_info": {
   "codemirror_mode": {
    "name": "ipython",
    "version": 3
   },
   "file_extension": ".py",
   "mimetype": "text/x-python",
   "name": "python",
   "nbconvert_exporter": "python",
   "pygments_lexer": "ipython3",
   "version": "3.11.5"
  }
 },
 "nbformat": 4,
 "nbformat_minor": 2
}
