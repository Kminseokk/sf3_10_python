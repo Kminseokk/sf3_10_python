{
 "cells": [
  {
   "cell_type": "code",
   "execution_count": 3,
   "metadata": {},
   "outputs": [],
   "source": [
    "from openpyxl import Workbook\n",
    "\n",
    "# 엑셀 생성\n",
    "wb = Workbook()\n",
    "\n",
    "ws = wb.active\n",
    "ws.title = 'Data'\n",
    "data = [\n",
    "    ['Name', 'Age'],\n",
    "    ['Alice', 30],\n",
    "    ['Bob', 25],\n",
    "    ['cic', 10 ]\n",
    "]\n",
    "\n",
    "for row in data:\n",
    "    ws.append(row)\n",
    "\n",
    "wb.save('append example.xlsx')"
   ]
  },
  {
   "cell_type": "code",
   "execution_count": 4,
   "metadata": {},
   "outputs": [],
   "source": [
    "import requests\n",
    "from bs4 import BeautifulSoup"
   ]
  },
  {
   "cell_type": "code",
   "execution_count": null,
   "metadata": {},
   "outputs": [],
   "source": [
    "User_input = \"lol\"\n",
    "\n",
    "for i in range(1, 4) :\n",
    "    abc = (i - 1) * 10 + 1\n",
    "    print(\"======= page\", i, \" 번째 시작 =======\")\n",
    "    #print(\"확인용 링크\", \"https://search.naver.com/search.naver?where=news&sm=tab_pge&query=\" + User_input + \"&start=\" + str(abc))\n",
    "    rink = \"https://search.naver.com/search.naver?where=news&sm=tab_pge&query=\" + User_input + \"&start=\" + str(abc)\n",
    "    #print(rink)\n",
    "    response = requests.get(rink) #1 11 21\n",
    "    \n",
    "    html = response.text\n",
    "\n",
    "    soup = BeautifulSoup(html, 'html.parser')\n",
    "    all_news = soup.select('a.news_tit')\n",
    "\n",
    "    for title in all_news :\n",
    "        print(title.text, title['href'])\n",
    "    print(\"======= page\", i, \" 번째 끄읕 =======\")"
   ]
  },
  {
   "cell_type": "code",
   "execution_count": 32,
   "metadata": {},
   "outputs": [],
   "source": [
    "from openpyxl import Workbook\n",
    "\n",
    "rink = \"https://browse.gmarket.co.kr/search?keyword=%ED%97%AC%EC%8A%A4\"\n",
    "#print(rink)\n",
    "response = requests.get(rink) #1 11 21\n",
    "html = response.text   \n",
    "soup = BeautifulSoup(html, 'html.parser')\n",
    "\n",
    "info = soup.select('.box__item-container')\n",
    "\n",
    "q2 = Workbook()\n",
    "q2_ws = q2.active\n",
    "q2_ws.title = 'Gmarket'\n",
    "data = [\n",
    "    ['상품명', '가격', '주소']\n",
    "]\n",
    "\n",
    "for ms in info :\n",
    "    title = ms.select_one('.box__item-title a').text\n",
    "    #price = ms.select_one('.box__item-price').text\n",
    "    price = ms.select_one('.text__value').text\n",
    "    url = ms.select_one('.link__item')['href']\n",
    "    #print(title , price, url)\n",
    "\n",
    "    data.append( [title, price, url])\n",
    "\n",
    "\n",
    "for row in data:\n",
    "    q2_ws.append(row)\n",
    "\n",
    "q2.save('append example2.xlsx')\n",
    "\n"
   ]
  },
  {
   "cell_type": "code",
   "execution_count": null,
   "metadata": {},
   "outputs": [],
   "source": []
  }
 ],
 "metadata": {
  "kernelspec": {
   "display_name": "base",
   "language": "python",
   "name": "python3"
  },
  "language_info": {
   "codemirror_mode": {
    "name": "ipython",
    "version": 3
   },
   "file_extension": ".py",
   "mimetype": "text/x-python",
   "name": "python",
   "nbconvert_exporter": "python",
   "pygments_lexer": "ipython3",
   "version": "3.11.5"
  }
 },
 "nbformat": 4,
 "nbformat_minor": 2
}
